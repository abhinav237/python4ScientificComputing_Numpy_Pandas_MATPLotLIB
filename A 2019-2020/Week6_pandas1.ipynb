{
 "cells": [
  {
   "cell_type": "code",
   "execution_count": 1,
   "metadata": {},
   "outputs": [],
   "source": [
    "import numpy as np\n",
    "import pandas as pd"
   ]
  },
  {
   "cell_type": "markdown",
   "metadata": {},
   "source": [
    "## Pandas Series !\n",
    "A 1D array in numpy was called array !, which in pandas it is called a Series"
   ]
  },
  {
   "cell_type": "code",
   "execution_count": 4,
   "metadata": {},
   "outputs": [
    {
     "name": "stdout",
     "output_type": "stream",
     "text": [
      "0    4.0\n",
      "1    5.0\n",
      "2    6.0\n",
      "3    0.1\n",
      "dtype: float64\n"
     ]
    }
   ],
   "source": [
    "S1 = pd.Series([1,2,3,4])\n",
    "S2 = pd.Series([4,5,6, 0.1])\n",
    "print(S2)"
   ]
  },
  {
   "cell_type": "markdown",
   "metadata": {},
   "source": [
    "The vectorized operations are exactly like numpy arrays !!"
   ]
  },
  {
   "cell_type": "code",
   "execution_count": 6,
   "metadata": {},
   "outputs": [
    {
     "name": "stdout",
     "output_type": "stream",
     "text": [
      "0    5.0\n",
      "1    7.0\n",
      "2    9.0\n",
      "3    4.1\n",
      "dtype: float64\n"
     ]
    }
   ],
   "source": [
    "S3 = S1+S2\n",
    "S4 = S1-S2\n",
    "print(S3)"
   ]
  },
  {
   "cell_type": "markdown",
   "metadata": {},
   "source": [
    "You can also create logical Series (boolean)"
   ]
  },
  {
   "cell_type": "code",
   "execution_count": 8,
   "metadata": {},
   "outputs": [
    {
     "name": "stdout",
     "output_type": "stream",
     "text": [
      "0    False\n",
      "1    False\n",
      "2    False\n",
      "3     True\n",
      "dtype: bool\n"
     ]
    }
   ],
   "source": [
    "S5 = S1>S2\n",
    "print(S5)"
   ]
  },
  {
   "cell_type": "markdown",
   "metadata": {},
   "source": [
    "You can also use the awesome logical indexing in pandas (similar to numpy)\n"
   ]
  },
  {
   "cell_type": "code",
   "execution_count": 9,
   "metadata": {},
   "outputs": [
    {
     "data": {
      "text/plain": [
       "1    5.0\n",
       "2    6.0\n",
       "dtype: float64"
      ]
     },
     "execution_count": 9,
     "metadata": {},
     "output_type": "execute_result"
    }
   ],
   "source": [
    "S2[3]\n",
    "S2[pd.Series([False,True,True,False])]"
   ]
  },
  {
   "cell_type": "code",
   "execution_count": null,
   "metadata": {},
   "outputs": [],
   "source": [
    "S1[S1>S2]"
   ]
  },
  {
   "cell_type": "markdown",
   "metadata": {},
   "source": [
    "The awesome thing about pandas is that you can give names to elements (we call them indexes)"
   ]
  },
  {
   "cell_type": "code",
   "execution_count": 11,
   "metadata": {},
   "outputs": [],
   "source": [
    "S6 = pd.Series([1,3,6,9],[\"a\",\"b\",\"c\",\"d\"])"
   ]
  },
  {
   "cell_type": "code",
   "execution_count": 13,
   "metadata": {},
   "outputs": [
    {
     "name": "stdout",
     "output_type": "stream",
     "text": [
      "a    1\n",
      "b    3\n",
      "c    6\n",
      "d    9\n",
      "dtype: int64\n"
     ]
    }
   ],
   "source": [
    "print(S6)"
   ]
  },
  {
   "cell_type": "markdown",
   "metadata": {},
   "source": [
    "Let's define a vector S7 that is using similar indexes but with a different order "
   ]
  },
  {
   "cell_type": "code",
   "execution_count": 15,
   "metadata": {},
   "outputs": [
    {
     "name": "stdout",
     "output_type": "stream",
     "text": [
      "a    10\n",
      "b     8\n",
      "c    13\n",
      "d    13\n",
      "dtype: int64\n"
     ]
    }
   ],
   "source": [
    "S6 = pd.Series([1,3,6,9],[\"a\",\"b\",\"c\",\"d\"])\n",
    "S7 = pd.Series([4,5,7,9], [\"d\",\"b\",\"c\",\"a\"])\n",
    "S8 = S6+S7\n",
    "print(S8)"
   ]
  },
  {
   "cell_type": "markdown",
   "metadata": {},
   "source": [
    "We can observe that it considers the indexes not the order !! that is a nice advantage !!"
   ]
  },
  {
   "cell_type": "markdown",
   "metadata": {},
   "source": [
    "Let's solve out problem using this advantage"
   ]
  },
  {
   "cell_type": "code",
   "execution_count": 17,
   "metadata": {},
   "outputs": [
    {
     "name": "stdout",
     "output_type": "stream",
     "text": [
      "wall       1150\n",
      "ceiling    1240\n",
      "door        124\n",
      "dtype: int64\n"
     ]
    }
   ],
   "source": [
    "Q_heating = pd.Series([1150,1240,124], index= [\"wall\",\"ceiling\", \"door\"])\n",
    "print(Q_heating)"
   ]
  },
  {
   "cell_type": "markdown",
   "metadata": {},
   "source": [
    "Pay attention that you can create a pandas Series either like this:\n",
    "Q_heating = pd.Series([1150,1240,124], [\"wall\",\"ceiling\", \"door\"])\n",
    "\n",
    "or like this:\n",
    "\n",
    "Q_heating = pd.Series([1150,1240,124], index= [\"wall\",\"ceiling\", \"door\"])\n",
    "\n",
    "Clearly, the second option is better because it is easier to understand\n"
   ]
  },
  {
   "cell_type": "markdown",
   "metadata": {},
   "source": [
    "Furhtermore, you can define a pandas Series by providing a dictionary as the input\n",
    "\n",
    "Pandas_series = pd.Series(youDictionary)\n"
   ]
  },
  {
   "cell_type": "code",
   "execution_count": 19,
   "metadata": {},
   "outputs": [
    {
     "name": "stdout",
     "output_type": "stream",
     "text": [
      "ceiling    1240\n",
      "door        124\n",
      "walls      1150\n",
      "dtype: int64\n"
     ]
    }
   ],
   "source": [
    "Q_heating_dict = {\"walls\":1150,\"ceiling\":1240,\"door\":124}\n",
    "Q_heating = pd.Series(Q_heating_dict)\n",
    "print(Q_heating)"
   ]
  },
  {
   "cell_type": "markdown",
   "metadata": {},
   "source": [
    "The fact that we have indexes in pandas Series means that we can use them to extract the elements !"
   ]
  },
  {
   "cell_type": "code",
   "execution_count": 21,
   "metadata": {},
   "outputs": [
    {
     "name": "stdout",
     "output_type": "stream",
     "text": [
      "124\n"
     ]
    }
   ],
   "source": [
    "Q_door = Q_heating[\"door\"]\n",
    "print(Q_door)"
   ]
  },
  {
   "cell_type": "markdown",
   "metadata": {},
   "source": [
    "You can also concert numpy arrays into pandas Series"
   ]
  },
  {
   "cell_type": "code",
   "execution_count": 24,
   "metadata": {},
   "outputs": [
    {
     "data": {
      "text/plain": [
       "1144.60788"
      ]
     },
     "execution_count": 24,
     "metadata": {},
     "output_type": "execute_result"
    }
   ],
   "source": [
    "opqaue_item_array  = np.array([\"wall\",\"ceiling\",\"door\"])\n",
    "opaque_U_array = np.array([0.438,0.25,1.78])\n",
    "opaque_area_array = np.array([105.8,200,2.2])\n",
    "T_inside_heating = 20\n",
    "T_outside_heating = -4.7\n",
    "DeltaT_heating= T_inside_heating - T_outside_heating\n",
    "opaque_HF_array = DeltaT_heating * opaque_U_array\n",
    "opaque_Q_array = opaque_HF_array*opaque_area_array\n",
    "Q_heating = pd.Series(opaque_Q_array, index= opqaue_item_array)\n",
    "Q_heating[\"wall\"]"
   ]
  },
  {
   "cell_type": "markdown",
   "metadata": {},
   "source": [
    "Clearly, we could do the whole process using Pandas Series, as follows:\n"
   ]
  },
  {
   "cell_type": "code",
   "execution_count": 27,
   "metadata": {},
   "outputs": [
    {
     "name": "stdout",
     "output_type": "stream",
     "text": [
      "wall       1149.24192\n",
      "ceiling    1240.00000\n",
      "door         97.11680\n",
      "dtype: float64\n"
     ]
    }
   ],
   "source": [
    "opaque_U = pd.Series([0.438,0.25,1.78], index = [\"wall\",\"ceiling\",\"door\"])\n",
    "opaque_area = pd.Series([105.8,200,2.2], index = [\"wall\",\"ceiling\",\"door\"] )\n",
    "temperatures = pd.Series([20,-4.8], index=[\"T_inside_heating\",\"T_outside_heating\"])\n",
    "opaque_HF = opaque_U * (temperatures[\"T_inside_heating\"]-temperatures[\"T_outside_heating\"])\n",
    "opaque_Q = opaque_HF*opaque_area\n",
    "print(opaque_Q)"
   ]
  },
  {
   "cell_type": "markdown",
   "metadata": {},
   "source": [
    "## applying a function to Series\n",
    "you can use pandas .apply function to apply a function to Series!"
   ]
  },
  {
   "cell_type": "code",
   "execution_count": 30,
   "metadata": {},
   "outputs": [
    {
     "name": "stdout",
     "output_type": "stream",
     "text": [
      "wall       1.144608\n",
      "ceiling    1.235000\n",
      "door       0.096725\n",
      "dtype: float64\n"
     ]
    }
   ],
   "source": [
    "def toKw(inputValue):\n",
    "    outputValue = inputValue/1000\n",
    "    return outputValue\n",
    "\n",
    "Q_heating_kw = Q_heating.apply(toKw)\n",
    "print(Q_heating_kw)"
   ]
  },
  {
   "cell_type": "markdown",
   "metadata": {},
   "source": [
    "## Pandas DataFrames !\n",
    "Using Pandas DataFrames you can define 2 D matrixes, each column in this matrix can have a different datatype !"
   ]
  },
  {
   "cell_type": "code",
   "execution_count": 32,
   "metadata": {},
   "outputs": [],
   "source": [
    "resistance_names = [\"R1\",\"R2\",\"R3\",\"R4\",\"R5\"]\n",
    "resistances_types = [\"conv\",\"cond\",\"cond\",\"cond\",\"conv\"]\n",
    "resistances_h = [10,None,None,None,25]\n",
    "resistances_k=  [None,0.8,1.5,0.05,None]\n",
    "resistances_L= [None,0.5,0.3,0.6,None]\n",
    "resistances_RValues=[0,0,0,0,0]\n",
    "resistance_listofLists = [resistances_types,resistances_h,resistances_k,resistances_L,resistances_RValues]"
   ]
  },
  {
   "cell_type": "code",
   "execution_count": 33,
   "metadata": {},
   "outputs": [
    {
     "name": "stdout",
     "output_type": "stream",
     "text": [
      "          R1    R2    R3    R4    R5\n",
      "type    conv  cond  cond  cond  conv\n",
      "h         10  None  None  None    25\n",
      "k       None   0.8   1.5  0.05  None\n",
      "L       None   0.5   0.3   0.6  None\n",
      "RValue     0     0     0     0     0\n"
     ]
    }
   ],
   "source": [
    "resistances_DF = pd.DataFrame(resistance_listofLists,\n",
    "                              index=[\"type\",\"h\",\"k\",\"L\",\"RValue\"], \n",
    "                              columns = [\"R1\",\"R2\",\"R3\",\"R4\",\"R5\"])\n",
    "print(resistances_DF)\n"
   ]
  },
  {
   "cell_type": "markdown",
   "metadata": {},
   "source": [
    "LEt me transpose it (which means changing the columsn with rows) so that each item would be a row and each property would be columns"
   ]
  },
  {
   "cell_type": "code",
   "execution_count": 35,
   "metadata": {},
   "outputs": [
    {
     "name": "stdout",
     "output_type": "stream",
     "text": [
      "    type     h     k     L RValue\n",
      "R1  conv    10  None  None      0\n",
      "R2  cond  None   0.8   0.5      0\n",
      "R3  cond  None   1.5   0.3      0\n",
      "R4  cond  None  0.05   0.6      0\n",
      "R5  conv    25  None  None      0\n"
     ]
    }
   ],
   "source": [
    "resistances_DF2 = resistances_DF.transpose()\n",
    "print(resistances_DF2)"
   ]
  },
  {
   "cell_type": "markdown",
   "metadata": {},
   "source": [
    "### Extracting data from DataFrames\n",
    "#### using iloc (number)\n"
   ]
  },
  {
   "cell_type": "code",
   "execution_count": 36,
   "metadata": {},
   "outputs": [
    {
     "data": {
      "text/plain": [
       "0.8"
      ]
     },
     "execution_count": 36,
     "metadata": {},
     "output_type": "execute_result"
    }
   ],
   "source": [
    "resistances_DF2.iloc[1,2]"
   ]
  },
  {
   "cell_type": "code",
   "execution_count": 38,
   "metadata": {},
   "outputs": [
    {
     "data": {
      "text/plain": [
       "0.6"
      ]
     },
     "execution_count": 38,
     "metadata": {},
     "output_type": "execute_result"
    }
   ],
   "source": [
    "resistances_DF2.iloc[3,3]"
   ]
  },
  {
   "cell_type": "code",
   "execution_count": 39,
   "metadata": {},
   "outputs": [
    {
     "data": {
      "text/plain": [
       "type      conv\n",
       "h           10\n",
       "k         None\n",
       "L         None\n",
       "RValue       0\n",
       "Name: R1, dtype: object"
      ]
     },
     "execution_count": 39,
     "metadata": {},
     "output_type": "execute_result"
    }
   ],
   "source": [
    "resistances_DF2.iloc[0,:]"
   ]
  },
  {
   "cell_type": "code",
   "execution_count": 41,
   "metadata": {},
   "outputs": [
    {
     "data": {
      "text/plain": [
       "R1    0\n",
       "R2    0\n",
       "R3    0\n",
       "R4    0\n",
       "R5    0\n",
       "Name: RValue, dtype: object"
      ]
     },
     "execution_count": 41,
     "metadata": {},
     "output_type": "execute_result"
    }
   ],
   "source": [
    "resistances_DF2.iloc[:,-1]\n",
    "\n"
   ]
  },
  {
   "cell_type": "code",
   "execution_count": 42,
   "metadata": {},
   "outputs": [
    {
     "data": {
      "text/plain": [
       "type      cond\n",
       "h         None\n",
       "k          1.5\n",
       "L          0.3\n",
       "RValue       0\n",
       "Name: R3, dtype: object"
      ]
     },
     "execution_count": 42,
     "metadata": {},
     "output_type": "execute_result"
    }
   ],
   "source": [
    "resistances_DF2.iloc[2,:]\n",
    "\n"
   ]
  },
  {
   "cell_type": "code",
   "execution_count": null,
   "metadata": {},
   "outputs": [],
   "source": []
  },
  {
   "cell_type": "markdown",
   "metadata": {},
   "source": [
    "### .loc[] Extracting elements using their name !!\n",
    "We do not like the numbers in pandas !\n"
   ]
  },
  {
   "cell_type": "code",
   "execution_count": 43,
   "metadata": {},
   "outputs": [
    {
     "data": {
      "text/plain": [
       "1.5"
      ]
     },
     "execution_count": 43,
     "metadata": {},
     "output_type": "execute_result"
    }
   ],
   "source": [
    "resistances_DF2.loc[\"R3\",\"k\"]\n"
   ]
  },
  {
   "cell_type": "code",
   "execution_count": 44,
   "metadata": {},
   "outputs": [
    {
     "data": {
      "text/plain": [
       "type      cond\n",
       "h         None\n",
       "k          1.5\n",
       "L          0.3\n",
       "RValue       0\n",
       "Name: R3, dtype: object"
      ]
     },
     "execution_count": 44,
     "metadata": {},
     "output_type": "execute_result"
    }
   ],
   "source": [
    "resistances_DF2.loc[\"R3\",:]\n"
   ]
  },
  {
   "cell_type": "code",
   "execution_count": 45,
   "metadata": {},
   "outputs": [
    {
     "data": {
      "text/plain": [
       "type      cond\n",
       "h         None\n",
       "k          1.5\n",
       "L          0.3\n",
       "RValue       0\n",
       "Name: R3, dtype: object"
      ]
     },
     "execution_count": 45,
     "metadata": {},
     "output_type": "execute_result"
    }
   ],
   "source": [
    "resistances_DF2.loc[\"R3\"]\n",
    "\n"
   ]
  },
  {
   "cell_type": "markdown",
   "metadata": {},
   "source": [
    "**Note** For extracting columsn you do not need .loc"
   ]
  },
  {
   "cell_type": "code",
   "execution_count": 46,
   "metadata": {},
   "outputs": [
    {
     "data": {
      "text/plain": [
       "R1      10\n",
       "R2    None\n",
       "R3    None\n",
       "R4    None\n",
       "R5      25\n",
       "Name: h, dtype: object"
      ]
     },
     "execution_count": 46,
     "metadata": {},
     "output_type": "execute_result"
    }
   ],
   "source": [
    "resistances_DF2[\"h\"]\n"
   ]
  },
  {
   "cell_type": "code",
   "execution_count": null,
   "metadata": {},
   "outputs": [],
   "source": []
  },
  {
   "cell_type": "markdown",
   "metadata": {},
   "source": [
    "Now let's do the calculation"
   ]
  },
  {
   "cell_type": "code",
   "execution_count": 47,
   "metadata": {},
   "outputs": [
    {
     "data": {
      "text/html": [
       "<div>\n",
       "<style scoped>\n",
       "    .dataframe tbody tr th:only-of-type {\n",
       "        vertical-align: middle;\n",
       "    }\n",
       "\n",
       "    .dataframe tbody tr th {\n",
       "        vertical-align: top;\n",
       "    }\n",
       "\n",
       "    .dataframe thead th {\n",
       "        text-align: right;\n",
       "    }\n",
       "</style>\n",
       "<table border=\"1\" class=\"dataframe\">\n",
       "  <thead>\n",
       "    <tr style=\"text-align: right;\">\n",
       "      <th></th>\n",
       "      <th>type</th>\n",
       "      <th>h</th>\n",
       "      <th>k</th>\n",
       "      <th>L</th>\n",
       "      <th>RValue</th>\n",
       "    </tr>\n",
       "  </thead>\n",
       "  <tbody>\n",
       "    <tr>\n",
       "      <th>R1</th>\n",
       "      <td>conv</td>\n",
       "      <td>10</td>\n",
       "      <td>None</td>\n",
       "      <td>None</td>\n",
       "      <td>0</td>\n",
       "    </tr>\n",
       "    <tr>\n",
       "      <th>R2</th>\n",
       "      <td>cond</td>\n",
       "      <td>None</td>\n",
       "      <td>0.8</td>\n",
       "      <td>0.5</td>\n",
       "      <td>0</td>\n",
       "    </tr>\n",
       "    <tr>\n",
       "      <th>R3</th>\n",
       "      <td>cond</td>\n",
       "      <td>None</td>\n",
       "      <td>1.5</td>\n",
       "      <td>0.3</td>\n",
       "      <td>0</td>\n",
       "    </tr>\n",
       "    <tr>\n",
       "      <th>R4</th>\n",
       "      <td>cond</td>\n",
       "      <td>None</td>\n",
       "      <td>0.05</td>\n",
       "      <td>0.6</td>\n",
       "      <td>0</td>\n",
       "    </tr>\n",
       "    <tr>\n",
       "      <th>R5</th>\n",
       "      <td>conv</td>\n",
       "      <td>25</td>\n",
       "      <td>None</td>\n",
       "      <td>None</td>\n",
       "      <td>0</td>\n",
       "    </tr>\n",
       "  </tbody>\n",
       "</table>\n",
       "</div>"
      ],
      "text/plain": [
       "    type     h     k     L RValue\n",
       "R1  conv    10  None  None      0\n",
       "R2  cond  None   0.8   0.5      0\n",
       "R3  cond  None   1.5   0.3      0\n",
       "R4  cond  None  0.05   0.6      0\n",
       "R5  conv    25  None  None      0"
      ]
     },
     "execution_count": 47,
     "metadata": {},
     "output_type": "execute_result"
    }
   ],
   "source": [
    "resistances_DF2"
   ]
  },
  {
   "cell_type": "code",
   "execution_count": 51,
   "metadata": {},
   "outputs": [
    {
     "data": {
      "text/plain": [
       "R1     True\n",
       "R2    False\n",
       "R3    False\n",
       "R4    False\n",
       "R5     True\n",
       "Name: type, dtype: bool"
      ]
     },
     "execution_count": 51,
     "metadata": {},
     "output_type": "execute_result"
    }
   ],
   "source": [
    "resistances_DF2[\"type\"]==\"conv\"\n"
   ]
  },
  {
   "cell_type": "code",
   "execution_count": 58,
   "metadata": {},
   "outputs": [
    {
     "data": {
      "text/plain": [
       "R1     0.1\n",
       "R5    0.04\n",
       "Name: h, dtype: object"
      ]
     },
     "execution_count": 58,
     "metadata": {},
     "output_type": "execute_result"
    }
   ],
   "source": [
    "1.0/resistances_DF2[resistances_DF2[\"type\"]==\"conv\"][\"h\"]\n",
    "\n"
   ]
  },
  {
   "cell_type": "code",
   "execution_count": 59,
   "metadata": {},
   "outputs": [
    {
     "data": {
      "text/plain": [
       "R1    0\n",
       "R5    0\n",
       "Name: RValue, dtype: object"
      ]
     },
     "execution_count": 59,
     "metadata": {},
     "output_type": "execute_result"
    }
   ],
   "source": [
    "resistances_DF2[resistances_DF2[\"type\"]==\"conv\"][\"RValue\"]\n"
   ]
  },
  {
   "cell_type": "code",
   "execution_count": 62,
   "metadata": {},
   "outputs": [
    {
     "data": {
      "text/html": [
       "<div>\n",
       "<style scoped>\n",
       "    .dataframe tbody tr th:only-of-type {\n",
       "        vertical-align: middle;\n",
       "    }\n",
       "\n",
       "    .dataframe tbody tr th {\n",
       "        vertical-align: top;\n",
       "    }\n",
       "\n",
       "    .dataframe thead th {\n",
       "        text-align: right;\n",
       "    }\n",
       "</style>\n",
       "<table border=\"1\" class=\"dataframe\">\n",
       "  <thead>\n",
       "    <tr style=\"text-align: right;\">\n",
       "      <th></th>\n",
       "      <th>type</th>\n",
       "      <th>h</th>\n",
       "      <th>k</th>\n",
       "      <th>L</th>\n",
       "      <th>RValue</th>\n",
       "    </tr>\n",
       "  </thead>\n",
       "  <tbody>\n",
       "    <tr>\n",
       "      <th>R1</th>\n",
       "      <td>conv</td>\n",
       "      <td>10</td>\n",
       "      <td>None</td>\n",
       "      <td>None</td>\n",
       "      <td>0.1</td>\n",
       "    </tr>\n",
       "    <tr>\n",
       "      <th>R2</th>\n",
       "      <td>cond</td>\n",
       "      <td>None</td>\n",
       "      <td>0.8</td>\n",
       "      <td>0.5</td>\n",
       "      <td>0</td>\n",
       "    </tr>\n",
       "    <tr>\n",
       "      <th>R3</th>\n",
       "      <td>cond</td>\n",
       "      <td>None</td>\n",
       "      <td>1.5</td>\n",
       "      <td>0.3</td>\n",
       "      <td>0</td>\n",
       "    </tr>\n",
       "    <tr>\n",
       "      <th>R4</th>\n",
       "      <td>cond</td>\n",
       "      <td>None</td>\n",
       "      <td>0.05</td>\n",
       "      <td>0.6</td>\n",
       "      <td>0</td>\n",
       "    </tr>\n",
       "    <tr>\n",
       "      <th>R5</th>\n",
       "      <td>conv</td>\n",
       "      <td>25</td>\n",
       "      <td>None</td>\n",
       "      <td>None</td>\n",
       "      <td>0.04</td>\n",
       "    </tr>\n",
       "  </tbody>\n",
       "</table>\n",
       "</div>"
      ],
      "text/plain": [
       "    type     h     k     L RValue\n",
       "R1  conv    10  None  None    0.1\n",
       "R2  cond  None   0.8   0.5      0\n",
       "R3  cond  None   1.5   0.3      0\n",
       "R4  cond  None  0.05   0.6      0\n",
       "R5  conv    25  None  None   0.04"
      ]
     },
     "execution_count": 62,
     "metadata": {},
     "output_type": "execute_result"
    }
   ],
   "source": [
    "resistances_DF2.loc[resistances_DF2[\"type\"]==\"conv\",\"RValue\"] = 1.0/resistances_DF2.loc[resistances_DF2[\"type\"]==\"conv\",\"h\"]\n",
    "resistances_DF2\n",
    "\n",
    "\n",
    "\n",
    "\n"
   ]
  }
 ],
 "metadata": {
  "kernelspec": {
   "display_name": "Python 2",
   "language": "python",
   "name": "python2"
  },
  "language_info": {
   "codemirror_mode": {
    "name": "ipython",
    "version": 2
   },
   "file_extension": ".py",
   "mimetype": "text/x-python",
   "name": "python",
   "nbconvert_exporter": "python",
   "pygments_lexer": "ipython2",
   "version": "2.7.15"
  }
 },
 "nbformat": 4,
 "nbformat_minor": 2
}
